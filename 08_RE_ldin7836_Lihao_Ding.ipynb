{
  "cells": [
    {
      "cell_type": "markdown",
      "metadata": {
        "id": "tEoxACVgvcBO"
      },
      "source": [
        "# **Text Analysis with Spark RDD API**\n",
        "\n"
      ]
    },
    {
      "cell_type": "markdown",
      "metadata": {
        "id": "wyvLA7vSrEuo"
      },
      "source": [
        "## Installing pyspark\n",
        "\n",
        "The following cell install the latest pyspark package"
      ]
    },
    {
      "cell_type": "code",
      "execution_count": null,
      "metadata": {
        "colab": {
          "base_uri": "https://localhost:8080/"
        },
        "id": "5aPPITHmYevz",
        "outputId": "1925ad65-8322-451b-c7f4-09d6999c16f1"
      },
      "outputs": [
        {
          "output_type": "stream",
          "name": "stdout",
          "text": [
            "Requirement already satisfied: pyspark in /usr/local/lib/python3.7/dist-packages (3.2.1)\n",
            "Requirement already satisfied: py4j==0.10.9.3 in /usr/local/lib/python3.7/dist-packages (from pyspark) (0.10.9.3)\n"
          ]
        }
      ],
      "source": [
        "!pip install pyspark"
      ]
    },
    {
      "cell_type": "markdown",
      "metadata": {
        "id": "VAcHZpUqrJif"
      },
      "source": [
        "## Mounting Google Drive\n",
        "\n",
        "The following cell mounts your google drive in the virtual machine runing the notebook. You will be asked to authenticate your account to access Google drive. Once authenticated, your google drive is mounted at `/content/drive`. Anything in your google drive can be accessed from `/content/drive/MyDrive`."
      ]
    },
    {
      "cell_type": "code",
      "execution_count": null,
      "metadata": {
        "colab": {
          "base_uri": "https://localhost:8080/"
        },
        "id": "NFqA9KucYh-U",
        "outputId": "70a98e14-ae93-4a67-e7dd-e97f1f2bdaea"
      },
      "outputs": [
        {
          "output_type": "stream",
          "name": "stdout",
          "text": [
            "Drive already mounted at /content/drive; to attempt to forcibly remount, call drive.mount(\"/content/drive\", force_remount=True).\n"
          ]
        }
      ],
      "source": [
        "from google.colab import drive\n",
        "drive.mount('/content/drive')"
      ]
    },
    {
      "cell_type": "markdown",
      "metadata": {
        "id": "I1SseUADrQdd"
      },
      "source": [
        "The following cell lists the content of your google drive. We assume you have created a folder called `data` in your google drive and have uploaded all the data files for assignment 1 there."
      ]
    },
    {
      "cell_type": "code",
      "execution_count": null,
      "metadata": {
        "colab": {
          "base_uri": "https://localhost:8080/"
        },
        "id": "cccM1-yZrRQ8",
        "outputId": "b0799db0-d01a-407b-b914-cead6134297e"
      },
      "outputs": [
        {
          "output_type": "stream",
          "name": "stdout",
          "text": [
            " Anti_assignment_CIC_g3.csv\n",
            " Governing_Law.csv\n",
            "'Label Report - Anti-assignment, CIC (Group 3).xlsx'\n",
            "'Label Report - Governing Law.xlsx'\n"
          ]
        }
      ],
      "source": [
        "!ls /content/drive/MyDrive/data"
      ]
    },
    {
      "cell_type": "markdown",
      "metadata": {
        "id": "mIxKGCFxbYJ1"
      },
      "source": [
        "## Initializing spark\n"
      ]
    },
    {
      "cell_type": "code",
      "execution_count": null,
      "metadata": {
        "id": "J-AwZcr5bSAd"
      },
      "outputs": [],
      "source": [
        "from pyspark.sql import SparkSession\n",
        "spark = SparkSession \\\n",
        "    .builder \\\n",
        "    .appName(\"Cloud Computing1\") \\\n",
        "    .getOrCreate()\n",
        "\n",
        "# reference: https://colab.research.google.com/drive/1cdTy7-sLgO8FFliMMlUGn6LiVmVZOTT-?usp=sharing"
      ]
    },
    {
      "cell_type": "markdown",
      "metadata": {
        "id": "kbja9TAGb6N5"
      },
      "source": [
        "## READ DATA\n",
        "Read from two csv files(Governing_Law.csv and Anti_assignment_CIC_g3.csv) and covert the result to RDD seperately."
      ]
    },
    {
      "cell_type": "code",
      "execution_count": null,
      "metadata": {
        "id": "8HZeeYuYbheI"
      },
      "outputs": [],
      "source": [
        "governing_law = spark.read.csv(\"file:///content/drive/MyDrive/data/Governing_Law.csv\",header=True).rdd\n",
        "anti_assignment_cic_g3 = spark.read.csv(\"file:///content/drive/MyDrive/data/Anti_assignment_CIC_g3.csv\",header=True).rdd\n",
        "governing_law_raw_data = governing_law.map(lambda x: x[\"Governing Law\"]).filter(lambda y: y != \"nan\")\n",
        "change_of_control_raw_data = anti_assignment_cic_g3.map(lambda x: x[\"Change of Control\"]).filter(lambda y: y != None)\n",
        "anti_assignment_raw_data = anti_assignment_cic_g3.map(lambda x: x[\"Anti-assignment\"]).filter(lambda y: y!= None)\n",
        "\n",
        "# reference: https://colab.research.google.com/drive/1cdTy7-sLgO8FFliMMlUGn6LiVmVZOTT-?usp=sharing"
      ]
    },
    {
      "cell_type": "markdown",
      "metadata": {
        "id": "APZnOm9T3CzJ"
      },
      "source": [
        "Load stop words and punctuation\n",
        "\n"
      ]
    },
    {
      "cell_type": "code",
      "execution_count": null,
      "metadata": {
        "id": "eaCWyqx03qzi",
        "colab": {
          "base_uri": "https://localhost:8080/"
        },
        "outputId": "0117743d-54e1-4ddf-caf1-d30cfe877559"
      },
      "outputs": [
        {
          "output_type": "stream",
          "name": "stdout",
          "text": [
            "[nltk_data] Downloading package stopwords to /root/nltk_data...\n",
            "[nltk_data]   Package stopwords is already up-to-date!\n",
            "stopwords: ['i', 'me', 'my', 'myself', 'we', 'our', 'ours', 'ourselves', 'you', \"you're\", \"you've\", \"you'll\", \"you'd\", 'your', 'yours', 'yourself', 'yourselves', 'he', 'him', 'his', 'himself', 'she', \"she's\", 'her', 'hers', 'herself', 'it', \"it's\", 'its', 'itself', 'they', 'them', 'their', 'theirs', 'themselves', 'what', 'which', 'who', 'whom', 'this', 'that', \"that'll\", 'these', 'those', 'am', 'is', 'are', 'was', 'were', 'be', 'been', 'being', 'have', 'has', 'had', 'having', 'do', 'does', 'did', 'doing', 'a', 'an', 'the', 'and', 'but', 'if', 'or', 'because', 'as', 'until', 'while', 'of', 'at', 'by', 'for', 'with', 'about', 'against', 'between', 'into', 'through', 'during', 'before', 'after', 'above', 'below', 'to', 'from', 'up', 'down', 'in', 'out', 'on', 'off', 'over', 'under', 'again', 'further', 'then', 'once', 'here', 'there', 'when', 'where', 'why', 'how', 'all', 'any', 'both', 'each', 'few', 'more', 'most', 'other', 'some', 'such', 'no', 'nor', 'not', 'only', 'own', 'same', 'so', 'than', 'too', 'very', 's', 't', 'can', 'will', 'just', 'don', \"don't\", 'should', \"should've\", 'now', 'd', 'll', 'm', 'o', 're', 've', 'y', 'ain', 'aren', \"aren't\", 'couldn', \"couldn't\", 'didn', \"didn't\", 'doesn', \"doesn't\", 'hadn', \"hadn't\", 'hasn', \"hasn't\", 'haven', \"haven't\", 'isn', \"isn't\", 'ma', 'mightn', \"mightn't\", 'mustn', \"mustn't\", 'needn', \"needn't\", 'shan', \"shan't\", 'shouldn', \"shouldn't\", 'wasn', \"wasn't\", 'weren', \"weren't\", 'won', \"won't\", 'wouldn', \"wouldn't\", 'page']\n",
            "punctuation: !\"#$%&'()*+,-./:;<=>?@[\\]^_`{|}~\n"
          ]
        }
      ],
      "source": [
        "import string\n",
        "import nltk\n",
        "nltk.download('stopwords')\n",
        "from nltk.corpus import stopwords\n",
        "stopwords = stopwords.words('english')\n",
        "stopwords.append(\"page\")\n",
        "print(\"stopwords: \", end = \"\")\n",
        "print(stopwords)\n",
        "\n",
        "punctuations = string.punctuation\n",
        "print(\"punctuation: \" + punctuations)\n",
        "\n",
        "# reference: https://colab.research.google.com/drive/1cdTy7-sLgO8FFliMMlUGn6LiVmVZOTT-?usp=sharing"
      ]
    },
    {
      "cell_type": "markdown",
      "metadata": {
        "id": "VFXOLysfYNPr"
      },
      "source": [
        "# **Method 1**"
      ]
    },
    {
      "cell_type": "markdown",
      "metadata": {
        "id": "_6hpEtzwqhDC"
      },
      "source": [
        "### **Remove stopwords and punctuation**"
      ]
    },
    {
      "cell_type": "code",
      "source": [
        "# Function that combine the splited word by punctuation, stopword, and result\n",
        "def combine_word(result):\n",
        "  final_result = []\n",
        "  current_line = []\n",
        "  i = 0\n",
        "  while i < len(result):\n",
        "      j = 0\n",
        "      while j < len(result[i]):\n",
        "        if result[i][j] in punctuations or result[i][j] in stopwords or result[i][j].isdigit():\n",
        "          if not (len(current_line) < 1 or len(current_line) > 4):\n",
        "            final_result.append(' '.join(current_line))\n",
        "          current_line = []   \n",
        "        else:\n",
        "          current_line.append(result[i][j])\n",
        "        j += 1\n",
        "      if not (len(current_line) > 4 or len(current_line) < 1):\n",
        "        final_result.append(' '.join(current_line))\n",
        "      current_line = []\n",
        "      i += 1\n",
        "  return final_result\n",
        "\n",
        "  # reference: https://github.com/aneesha/RAKE/blob/master/rake.py"
      ],
      "metadata": {
        "id": "qKd5pWm9pU50"
      },
      "execution_count": null,
      "outputs": []
    },
    {
      "cell_type": "code",
      "execution_count": null,
      "metadata": {
        "id": "FwXgwUtf7yG9",
        "colab": {
          "base_uri": "https://localhost:8080/"
        },
        "outputId": "777fc104-ea76-46f0-9f05-9a705f9c0804"
      },
      "outputs": [
        {
          "output_type": "stream",
          "name": "stdout",
          "text": [
            "[nltk_data] Downloading package punkt to /root/nltk_data...\n",
            "[nltk_data]   Package punkt is already up-to-date!\n"
          ]
        }
      ],
      "source": [
        "import nltk\n",
        "nltk.download('punkt')\n",
        "\n",
        "# Start of split function.\n",
        "def split_content(texts):\n",
        "\n",
        "  # Put every word into lower case first.\n",
        "  texts = texts.lower()\n",
        "\n",
        "\n",
        "  result = []\n",
        "  split_result = []\n",
        "\n",
        "  # Use \"(page \" as keyword to split document and split by stop words.\n",
        "  for text in texts.split('(page '):\n",
        "    result = []\n",
        "    words = []\n",
        "    words = nltk.word_tokenize(text)\n",
        "  \n",
        "  # Because tokenize cannot split \"/\" use more code to fix this.\n",
        "    i = 0\n",
        "    while i < len(words):\n",
        "      if \"/\" in words[i]:\n",
        "          temp = words[i].split(\"/\")\n",
        "          words.pop(i)\n",
        "          j = 0\n",
        "          count = 0\n",
        "          while j < len(temp):\n",
        "              words.insert(i+j+count, temp[j])\n",
        "              count += 1\n",
        "              words.insert(i+j+count, \",\")\n",
        "              j += 1\n",
        "          continue\n",
        "      i += 1\n",
        "    if len(words) != 0:\n",
        "      result.append(words)\n",
        "    \n",
        "  # Sum up the splited document word by digit and punctuations and stopwords \n",
        "    final_result = combine_word(result)\n",
        "    if not len(final_result) <= 0:\n",
        "      split_result.append(final_result)\n",
        "  return split_result\n",
        "\n",
        "# reference: https://edstem.org/au/courses/8206/discussion/792452"
      ]
    },
    {
      "cell_type": "markdown",
      "source": [
        "Using the function above(split_content()) to split documents into keywords. Which is also the **Candidate Phrase Identification for method 1**"
      ],
      "metadata": {
        "id": "CK5CxMfGwi9t"
      }
    },
    {
      "cell_type": "code",
      "execution_count": null,
      "metadata": {
        "id": "0PsVOLL0wFfr"
      },
      "outputs": [],
      "source": [
        "governing_law_data = governing_law_raw_data.flatMap(split_content)\n",
        "change_of_control_data = change_of_control_raw_data.flatMap(split_content)\n",
        "anti_assignment_data = anti_assignment_raw_data.flatMap(split_content)"
      ]
    },
    {
      "cell_type": "markdown",
      "source": [
        "**Candidate Phrase Identification of governing_law for method 1**"
      ],
      "metadata": {
        "id": "_veiCaPmzvVM"
      }
    },
    {
      "cell_type": "code",
      "source": [
        "governing_law_data.take(4)"
      ],
      "metadata": {
        "colab": {
          "base_uri": "https://localhost:8080/"
        },
        "id": "rzHaaxbEzukr",
        "outputId": "cf46614c-6ab7-41db-ec27-8ee73c29b32d"
      },
      "execution_count": null,
      "outputs": [
        {
          "output_type": "execute_result",
          "data": {
            "text/plain": [
              "[['agreement',\n",
              "  'accepted',\n",
              "  'company',\n",
              "  'state',\n",
              "  'nevada',\n",
              "  'shall',\n",
              "  'governed',\n",
              "  'construed',\n",
              "  'accordance',\n",
              "  'laws thereof',\n",
              "  'laws shall prevail',\n",
              "  'event',\n",
              "  'conflict'],\n",
              " ['agreement shall',\n",
              "  'governed',\n",
              "  'laws',\n",
              "  'province',\n",
              "  'ontario',\n",
              "  'federal laws',\n",
              "  'canada applicable therein'],\n",
              " ['agreement',\n",
              "  'subject',\n",
              "  'laws',\n",
              "  'regulations',\n",
              "  'license conditions',\n",
              "  'decisions',\n",
              "  'canadian radio-television',\n",
              "  'telecommunications commission',\n",
              "  '‚äúcrtc‚äù',\n",
              "  'municipal',\n",
              "  'provincial',\n",
              "  'federal governments',\n",
              "  'authorities',\n",
              "  'applicable',\n",
              "  'rogers',\n",
              "  'licensor',\n",
              "  'force',\n",
              "  'hereafter adopted',\n",
              "  '‚äúapplicable law‚äù'],\n",
              " ['questions',\n",
              "  'respect',\n",
              "  'construction',\n",
              "  'agreement',\n",
              "  'rights',\n",
              "  'liabilities',\n",
              "  'parties hereto',\n",
              "  'shall',\n",
              "  'governed',\n",
              "  'laws',\n",
              "  'state',\n",
              "  'florida']]"
            ]
          },
          "metadata": {},
          "execution_count": 59
        }
      ]
    },
    {
      "cell_type": "markdown",
      "source": [
        "**Candidate Phrase Identification of change_of_control for method 1**"
      ],
      "metadata": {
        "id": "xRhiyJ__z6rK"
      }
    },
    {
      "cell_type": "code",
      "source": [
        "change_of_control_data.take(4)"
      ],
      "metadata": {
        "colab": {
          "base_uri": "https://localhost:8080/"
        },
        "id": "o4SkrI-n0Dgc",
        "outputId": "447bca0a-2937-48cf-8b6e-951097c421ac"
      },
      "execution_count": null,
      "outputs": [
        {
          "output_type": "execute_result",
          "data": {
            "text/plain": [
              "[['purposes',\n",
              "  'preceding sentence',\n",
              "  'without limiting',\n",
              "  'generality',\n",
              "  'merger',\n",
              "  'consolidation',\n",
              "  'reorganization involving licensee',\n",
              "  'regardless',\n",
              "  'whether licensee',\n",
              "  'surviving',\n",
              "  'disappearing entity',\n",
              "  'deemed',\n",
              "  'transfer',\n",
              "  'rights',\n",
              "  'obligations',\n",
              "  'performance',\n",
              "  'agreement',\n",
              "  'required'],\n",
              " ['``',\n",
              "  'term',\n",
              "  'agreement shall',\n",
              "  'effective',\n",
              "  'date first stated',\n",
              "  'shall continue',\n",
              "  'term',\n",
              "  'three',\n",
              "  'years',\n",
              "  'unless terminated earlier',\n",
              "  'accordance',\n",
              "  'provisions',\n",
              "  'agreement',\n",
              "  'provided'],\n",
              " ['``',\n",
              "  'purposes',\n",
              "  'agreement',\n",
              "  \"`` '' change\",\n",
              "  \"control '' '' means\",\n",
              "  'merger',\n",
              "  'consolidation',\n",
              "  'party'],\n",
              " ['neither party shall voluntarily',\n",
              "  'operation',\n",
              "  'law assign',\n",
              "  'otherwise transfer',\n",
              "  'rights',\n",
              "  'obligations incurred pursuant',\n",
              "  'terms',\n",
              "  'agreement without',\n",
              "  'prior written consent',\n",
              "  'party']]"
            ]
          },
          "metadata": {},
          "execution_count": 60
        }
      ]
    },
    {
      "cell_type": "markdown",
      "source": [
        "**Candidate Phrase Identification of anti_assignment for method 1**"
      ],
      "metadata": {
        "id": "DEvTKYiG0KDB"
      }
    },
    {
      "cell_type": "code",
      "source": [
        "anti_assignment_data.take(4)"
      ],
      "metadata": {
        "colab": {
          "base_uri": "https://localhost:8080/"
        },
        "id": "4dmtWbPE0N_o",
        "outputId": "6168ae5e-30be-4954-f431-23862961867b"
      },
      "execution_count": null,
      "outputs": [
        {
          "output_type": "execute_result",
          "data": {
            "text/plain": [
              "[['may',\n",
              "  'assign',\n",
              "  'sell',\n",
              "  'lease',\n",
              "  'otherwise transfer',\n",
              "  'whole',\n",
              "  'party',\n",
              "  'rights granted pursuant',\n",
              "  'company'],\n",
              " ['agreement may',\n",
              "  'assigned',\n",
              "  'sold',\n",
              "  'transferred without',\n",
              "  'prior written consent',\n",
              "  'party'],\n",
              " ['notwithstanding',\n",
              "  'foregoing',\n",
              "  'rogers may',\n",
              "  'without consent',\n",
              "  'assign',\n",
              "  'rights',\n",
              "  'obligations',\n",
              "  'agreement',\n",
              "  'whole',\n",
              "  'part',\n",
              "  'person',\n",
              "  'directly',\n",
              "  'indirectly controls',\n",
              "  'controlled',\n",
              "  'common control',\n",
              "  'rogers',\n",
              "  'ii',\n",
              "  'purchaser',\n",
              "  'substantially',\n",
              "  'assets used',\n",
              "  'connection',\n",
              "  'rod service',\n",
              "  'change',\n",
              "  'control',\n",
              "  'rogers shall',\n",
              "  'considered',\n",
              "  'assignment',\n",
              "  'agreement'],\n",
              " ['purported assignment',\n",
              "  'sale',\n",
              "  'transfer',\n",
              "  'contravention',\n",
              "  'section shall',\n",
              "  'null',\n",
              "  'void']]"
            ]
          },
          "metadata": {},
          "execution_count": 61
        }
      ]
    },
    {
      "cell_type": "markdown",
      "source": [
        "## Count Word Score"
      ],
      "metadata": {
        "id": "1R767IuDxgwE"
      }
    },
    {
      "cell_type": "markdown",
      "source": [
        "First step in method 1 is to count the score of each word in every keywords."
      ],
      "metadata": {
        "id": "QNjozzVUYnIT"
      }
    },
    {
      "cell_type": "code",
      "source": [
        "def calculate_word_score(word_list):\n",
        "  word_score_list = []\n",
        "  frequency_list = []\n",
        "  frequency_value_list = []\n",
        "  degree_list = []\n",
        "  degree_value_list = []\n",
        "  score_list = []\n",
        "  score_value_list = []\n",
        "  combine_list = []\n",
        "\n",
        "  # The following block is to calculate the frequency value of each word\n",
        "  i = 0\n",
        "  while i < len(word_list):\n",
        "    if word_list[i] not in frequency_list:\n",
        "      frequency_list.append(word_list[i])\n",
        "      frequency_value_list.append(1)\n",
        "    else:\n",
        "      frequency_value_list[frequency_list.index(word_list[i])] += 1\n",
        "    phrase = word_list[i].split(\" \")\n",
        "    if len(phrase) == 1:\n",
        "      temp = 1\n",
        "    else:\n",
        "      combine_list.append((phrase, word_list[i]))\n",
        "    i += 1\n",
        "  i = 0\n",
        "  while i < len(combine_list):\n",
        "    j = 0\n",
        "    while j < len(combine_list[i][0]):\n",
        "      if combine_list[i][0][j] not in frequency_list:\n",
        "        frequency_list.append(combine_list[i][0][j])\n",
        "        frequency_value_list.append(1)\n",
        "      else:\n",
        "        frequency_value_list[frequency_list.index(combine_list[i][0][j])] += 1\n",
        "      j += 1\n",
        "    i += 1\n",
        "\n",
        "  # The following block is to calculate the degree of each word\n",
        "  i = 0\n",
        "  keys = list(frequency_list)\n",
        "  while i < len(keys):\n",
        "    if keys[i] in degree_list:\n",
        "      temp = 0\n",
        "    else:\n",
        "      degree_list.append(keys[i])\n",
        "      degree_value_list.append(frequency_value_list[frequency_list.index(keys[i])])\n",
        "    j = 0\n",
        "    while j < len(combine_list):\n",
        "      if len(combine_list[j][0]) <= 4 and combine_list[j][0].count(keys[i]) > 0:\n",
        "        degree_value_list[degree_list.index(keys[i])] += (len(combine_list[j][0]) - 1) * frequency_value_list[frequency_list.index(combine_list[j][1])] * combine_list[j][0].count(keys[i])\n",
        "      j += 1\n",
        "    i += 1\n",
        "\n",
        "  # The following block is to calculate the score of each word\n",
        "  i = 0\n",
        "  while i < len(keys):\n",
        "    score_list.append(keys[i])\n",
        "    score_value_list.append(degree_value_list[degree_list.index(keys[i])] * 1.0 / frequency_value_list[frequency_list.index(keys[i])])\n",
        "    i += 1\n",
        "\n",
        "  # In the following block, keywords with length no more than 4 will be \n",
        "  i = 0\n",
        "  while i < len(keys):\n",
        "    if len(keys[i].split()) < 5:\n",
        "      word_score_list.append((keys[i], score_value_list[score_list.index(keys[i])]))\n",
        "    i += 1\n",
        "  word_score_list.sort(key = (lambda x :(-x[1], x[0])))\n",
        "    \n",
        "  return word_score_list"
      ],
      "metadata": {
        "id": "nHyJ5o15XrRR"
      },
      "execution_count": null,
      "outputs": []
    },
    {
      "cell_type": "code",
      "source": [
        "governing_law_word_score = governing_law_data.map(lambda x: calculate_word_score(x))\n",
        "change_of_control_word_score = change_of_control_data.map(lambda x: calculate_word_score(x))\n",
        "anti_assignment_word_score = anti_assignment_data.map(lambda x: calculate_word_score(x))"
      ],
      "metadata": {
        "id": "krP7W6dQXx1b"
      },
      "execution_count": null,
      "outputs": []
    },
    {
      "cell_type": "markdown",
      "source": [
        "Show **word score calculation result** for method 1"
      ],
      "metadata": {
        "id": "U4F8RxXa1Rzb"
      }
    },
    {
      "cell_type": "markdown",
      "source": [
        "**word score calculation result of governing_law**"
      ],
      "metadata": {
        "id": "HtAzr_bS1bSY"
      }
    },
    {
      "cell_type": "code",
      "source": [
        "governing_law_word_score.take(3)"
      ],
      "metadata": {
        "colab": {
          "base_uri": "https://localhost:8080/"
        },
        "id": "sM61BTqq1j0w",
        "outputId": "68290070-3502-4c8b-e0c8-a9579a2154f9"
      },
      "execution_count": null,
      "outputs": [
        {
          "output_type": "execute_result",
          "data": {
            "text/plain": [
              "[[('prevail', 3.0),\n",
              "  ('laws', 2.5),\n",
              "  ('shall', 2.0),\n",
              "  ('thereof', 2.0),\n",
              "  ('accepted', 1.0),\n",
              "  ('accordance', 1.0),\n",
              "  ('agreement', 1.0),\n",
              "  ('company', 1.0),\n",
              "  ('conflict', 1.0),\n",
              "  ('construed', 1.0),\n",
              "  ('event', 1.0),\n",
              "  ('governed', 1.0),\n",
              "  ('laws shall prevail', 1.0),\n",
              "  ('laws thereof', 1.0),\n",
              "  ('nevada', 1.0),\n",
              "  ('state', 1.0)],\n",
              " [('applicable', 3.0),\n",
              "  ('canada', 3.0),\n",
              "  ('therein', 3.0),\n",
              "  ('agreement', 2.0),\n",
              "  ('federal', 2.0),\n",
              "  ('shall', 2.0),\n",
              "  ('laws', 1.5),\n",
              "  ('agreement shall', 1.0),\n",
              "  ('canada applicable therein', 1.0),\n",
              "  ('federal laws', 1.0),\n",
              "  ('governed', 1.0),\n",
              "  ('ontario', 1.0),\n",
              "  ('province', 1.0)],\n",
              " [('adopted', 2.0),\n",
              "  ('canadian', 2.0),\n",
              "  ('commission', 2.0),\n",
              "  ('conditions', 2.0),\n",
              "  ('federal', 2.0),\n",
              "  ('governments', 2.0),\n",
              "  ('hereafter', 2.0),\n",
              "  ('law‚äù', 2.0),\n",
              "  ('license', 2.0),\n",
              "  ('radio-television', 2.0),\n",
              "  ('telecommunications', 2.0),\n",
              "  ('‚äúapplicable', 2.0),\n",
              "  ('agreement', 1.0),\n",
              "  ('applicable', 1.0),\n",
              "  ('authorities', 1.0),\n",
              "  ('canadian radio-television', 1.0),\n",
              "  ('decisions', 1.0),\n",
              "  ('federal governments', 1.0),\n",
              "  ('force', 1.0),\n",
              "  ('hereafter adopted', 1.0),\n",
              "  ('laws', 1.0),\n",
              "  ('license conditions', 1.0),\n",
              "  ('licensor', 1.0),\n",
              "  ('municipal', 1.0),\n",
              "  ('provincial', 1.0),\n",
              "  ('regulations', 1.0),\n",
              "  ('rogers', 1.0),\n",
              "  ('subject', 1.0),\n",
              "  ('telecommunications commission', 1.0),\n",
              "  ('‚äúapplicable law‚äù', 1.0),\n",
              "  ('‚äúcrtc‚äù', 1.0)]]"
            ]
          },
          "metadata": {},
          "execution_count": 64
        }
      ]
    },
    {
      "cell_type": "markdown",
      "source": [
        "**word score calculation result of change_of_control**"
      ],
      "metadata": {
        "id": "FDuplq--1rEd"
      }
    },
    {
      "cell_type": "code",
      "source": [
        "change_of_control_word_score.take(3)"
      ],
      "metadata": {
        "colab": {
          "base_uri": "https://localhost:8080/"
        },
        "id": "rE-M2kxX1w1x",
        "outputId": "06054268-219e-44c9-ece6-1dd5683f826b"
      },
      "execution_count": null,
      "outputs": [
        {
          "output_type": "execute_result",
          "data": {
            "text/plain": [
              "[[('involving', 3.0),\n",
              "  ('reorganization', 3.0),\n",
              "  ('licensee', 2.5),\n",
              "  ('disappearing', 2.0),\n",
              "  ('entity', 2.0),\n",
              "  ('limiting', 2.0),\n",
              "  ('preceding', 2.0),\n",
              "  ('sentence', 2.0),\n",
              "  ('whether', 2.0),\n",
              "  ('without', 2.0),\n",
              "  ('agreement', 1.0),\n",
              "  ('consolidation', 1.0),\n",
              "  ('deemed', 1.0),\n",
              "  ('disappearing entity', 1.0),\n",
              "  ('generality', 1.0),\n",
              "  ('merger', 1.0),\n",
              "  ('obligations', 1.0),\n",
              "  ('performance', 1.0),\n",
              "  ('preceding sentence', 1.0),\n",
              "  ('purposes', 1.0),\n",
              "  ('regardless', 1.0),\n",
              "  ('reorganization involving licensee', 1.0),\n",
              "  ('required', 1.0),\n",
              "  ('rights', 1.0),\n",
              "  ('surviving', 1.0),\n",
              "  ('transfer', 1.0),\n",
              "  ('whether licensee', 1.0),\n",
              "  ('without limiting', 1.0)],\n",
              " [('date', 3.0),\n",
              "  ('earlier', 3.0),\n",
              "  ('first', 3.0),\n",
              "  ('stated', 3.0),\n",
              "  ('terminated', 3.0),\n",
              "  ('unless', 3.0),\n",
              "  ('continue', 2.0),\n",
              "  ('shall', 2.0),\n",
              "  ('agreement', 1.5),\n",
              "  ('``', 1.0),\n",
              "  ('accordance', 1.0),\n",
              "  ('agreement shall', 1.0),\n",
              "  ('date first stated', 1.0),\n",
              "  ('effective', 1.0),\n",
              "  ('provided', 1.0),\n",
              "  ('provisions', 1.0),\n",
              "  ('shall continue', 1.0),\n",
              "  ('term', 1.0),\n",
              "  ('three', 1.0),\n",
              "  ('unless terminated earlier', 1.0),\n",
              "  ('years', 1.0)],\n",
              " [('control', 4.0),\n",
              "  ('means', 4.0),\n",
              "  (\"''\", 3.6666666666666665),\n",
              "  ('change', 3.0),\n",
              "  ('``', 2.0),\n",
              "  (\"`` '' change\", 1.0),\n",
              "  ('agreement', 1.0),\n",
              "  ('consolidation', 1.0),\n",
              "  (\"control '' '' means\", 1.0),\n",
              "  ('merger', 1.0),\n",
              "  ('party', 1.0),\n",
              "  ('purposes', 1.0)]]"
            ]
          },
          "metadata": {},
          "execution_count": 65
        }
      ]
    },
    {
      "cell_type": "markdown",
      "source": [
        "**word score calculation result of anti-assignment**"
      ],
      "metadata": {
        "id": "SKzYk42p11x3"
      }
    },
    {
      "cell_type": "code",
      "source": [
        "anti_assignment_word_score.take(3)"
      ],
      "metadata": {
        "colab": {
          "base_uri": "https://localhost:8080/"
        },
        "id": "kWsufse314ZN",
        "outputId": "031b5e9d-9323-431b-9566-aad0aefa3af2"
      },
      "execution_count": null,
      "outputs": [
        {
          "output_type": "execute_result",
          "data": {
            "text/plain": [
              "[[('granted', 3.0),\n",
              "  ('pursuant', 3.0),\n",
              "  ('rights', 3.0),\n",
              "  ('otherwise', 2.0),\n",
              "  ('transfer', 2.0),\n",
              "  ('assign', 1.0),\n",
              "  ('company', 1.0),\n",
              "  ('lease', 1.0),\n",
              "  ('may', 1.0),\n",
              "  ('otherwise transfer', 1.0),\n",
              "  ('party', 1.0),\n",
              "  ('rights granted pursuant', 1.0),\n",
              "  ('sell', 1.0),\n",
              "  ('whole', 1.0)],\n",
              " [('consent', 3.0),\n",
              "  ('prior', 3.0),\n",
              "  ('written', 3.0),\n",
              "  ('agreement', 2.0),\n",
              "  ('may', 2.0),\n",
              "  ('transferred', 2.0),\n",
              "  ('without', 2.0),\n",
              "  ('agreement may', 1.0),\n",
              "  ('assigned', 1.0),\n",
              "  ('party', 1.0),\n",
              "  ('prior written consent', 1.0),\n",
              "  ('sold', 1.0),\n",
              "  ('transferred without', 1.0)],\n",
              " [('assets', 2.0),\n",
              "  ('common', 2.0),\n",
              "  ('consent', 2.0),\n",
              "  ('controls', 2.0),\n",
              "  ('indirectly', 2.0),\n",
              "  ('may', 2.0),\n",
              "  ('rod', 2.0),\n",
              "  ('service', 2.0),\n",
              "  ('shall', 2.0),\n",
              "  ('used', 2.0),\n",
              "  ('without', 2.0),\n",
              "  ('rogers', 1.6666666666666667),\n",
              "  ('control', 1.5),\n",
              "  ('agreement', 1.0),\n",
              "  ('assets used', 1.0),\n",
              "  ('assign', 1.0),\n",
              "  ('assignment', 1.0),\n",
              "  ('change', 1.0),\n",
              "  ('common control', 1.0),\n",
              "  ('connection', 1.0),\n",
              "  ('considered', 1.0),\n",
              "  ('controlled', 1.0),\n",
              "  ('directly', 1.0),\n",
              "  ('foregoing', 1.0),\n",
              "  ('ii', 1.0),\n",
              "  ('indirectly controls', 1.0),\n",
              "  ('notwithstanding', 1.0),\n",
              "  ('obligations', 1.0),\n",
              "  ('part', 1.0),\n",
              "  ('person', 1.0),\n",
              "  ('purchaser', 1.0),\n",
              "  ('rights', 1.0),\n",
              "  ('rod service', 1.0),\n",
              "  ('rogers may', 1.0),\n",
              "  ('rogers shall', 1.0),\n",
              "  ('substantially', 1.0),\n",
              "  ('whole', 1.0),\n",
              "  ('without consent', 1.0)]]"
            ]
          },
          "metadata": {},
          "execution_count": 66
        }
      ]
    },
    {
      "cell_type": "markdown",
      "source": [
        "Second of method 1 is to calculate the keyword score by adding each word score in this keyword."
      ],
      "metadata": {
        "id": "XH8ABwKP2AH-"
      }
    },
    {
      "cell_type": "code",
      "source": [
        "def calculate_candidate_phrase_score(word_list):\n",
        "  # The following block is same to the previous one\n",
        "  # I did this because I calculate the keyword score directly and did not show the score of each word.\n",
        "  # But the rubic indicts that we need to show the score of each word, so I copy code in this part and delete\n",
        "  # some of it then become the code in the previous part.\n",
        "  keyword_score = []\n",
        "  frequency_list = []\n",
        "  frequency_value_list = []\n",
        "  degree_list = []\n",
        "  degree_value_list = []\n",
        "  score_list = []\n",
        "  score_value_list = []\n",
        "  combine_list = []\n",
        "\n",
        "  i = 0\n",
        "  while i < len(word_list):\n",
        "    if word_list[i] not in frequency_list:\n",
        "      frequency_list.append(word_list[i])\n",
        "      frequency_value_list.append(1)\n",
        "    else:\n",
        "      frequency_value_list[frequency_list.index(word_list[i])] += 1\n",
        "    phrase = word_list[i].split(\" \")\n",
        "    if len(phrase) == 1:\n",
        "      temp = 1\n",
        "    else:\n",
        "      combine_list.append((phrase, word_list[i]))\n",
        "    i += 1\n",
        "\n",
        "  i = 0\n",
        "  while i < len(combine_list):\n",
        "    j = 0\n",
        "    while j < len(combine_list[i][0]):\n",
        "      if combine_list[i][0][j] not in frequency_list:\n",
        "        frequency_list.append(combine_list[i][0][j])\n",
        "        frequency_value_list.append(1)\n",
        "      else:\n",
        "        frequency_value_list[frequency_list.index(combine_list[i][0][j])] += 1\n",
        "      j += 1\n",
        "    i += 1\n",
        "\n",
        "  \n",
        "  i = 0\n",
        "  keys = list(frequency_list)\n",
        "  while i < len(keys):\n",
        "    if keys[i] in degree_list:\n",
        "      temp = 0\n",
        "    else:\n",
        "      degree_list.append(keys[i])\n",
        "      degree_value_list.append(frequency_value_list[frequency_list.index(keys[i])])\n",
        "    j = 0\n",
        "    while j < len(combine_list):\n",
        "      if len(combine_list[j][0]) <= 4 and combine_list[j][0].count(keys[i]) > 0:\n",
        "        degree_value_list[degree_list.index(keys[i])] += (len(combine_list[j][0]) - 1) * frequency_value_list[frequency_list.index(combine_list[j][1])] * combine_list[j][0].count(keys[i])\n",
        "      j += 1\n",
        "    i += 1\n",
        "\n",
        "  i = 0\n",
        "  while i < len(keys):\n",
        "    score_list.append(keys[i])\n",
        "    score_value_list.append(degree_value_list[degree_list.index(keys[i])] * 1.0 / frequency_value_list[frequency_list.index(keys[i])])\n",
        "    i += 1\n",
        "  i = 0\n",
        "\n",
        "  # The following block is new compared to the previous part of code, this added all the word score in one key word\n",
        "  while i < len(combine_list):\n",
        "    score = 0\n",
        "    temp_list = []\n",
        "    k = 0\n",
        "    while k < len(combine_list[i][0]):\n",
        "      if combine_list[i][0][k] not in temp_list:\n",
        "        temp_list.append(combine_list[i][0][k])\n",
        "      k += 1\n",
        "    j = 0\n",
        "    while j < len(temp_list):\n",
        "      score += score_value_list[score_list.index(temp_list[j])]\n",
        "      j += 1\n",
        "    score_value_list[score_list.index(combine_list[i][1])] = score\n",
        "    i += 1\n",
        "  \n",
        "  i = 0\n",
        "  while i < len(word_list):\n",
        "    if len(word_list[i].split()) < 5:\n",
        "      keyword_score.append((word_list[i], score_value_list[score_list.index(word_list[i])]))\n",
        "    i += 1\n",
        "  keyword_score.sort(key=(lambda x :(-x[1], x[0])))\n",
        "    \n",
        "  return keyword_score"
      ],
      "metadata": {
        "id": "VDUD62jo_gJf"
      },
      "execution_count": null,
      "outputs": []
    },
    {
      "cell_type": "code",
      "source": [
        "governing_law_candidate_phrase_score = governing_law_data.map(lambda x: calculate_candidate_phrase_score(x))\n",
        "change_of_control_candidate_phrase_score = change_of_control_data.map(lambda x: calculate_candidate_phrase_score(x))\n",
        "anti_assignment_candidate_phrase_score = anti_assignment_data.map(lambda x: calculate_candidate_phrase_score(x))"
      ],
      "metadata": {
        "id": "Vf37qsDY_lE1"
      },
      "execution_count": null,
      "outputs": []
    },
    {
      "cell_type": "markdown",
      "source": [
        "Show **candidate phrase score calculation result** for method 1"
      ],
      "metadata": {
        "id": "PTc8Dpg64NNu"
      }
    },
    {
      "cell_type": "markdown",
      "source": [
        "**candidate phrase score calculation of governing_law**"
      ],
      "metadata": {
        "id": "_uLODQuY4ZUl"
      }
    },
    {
      "cell_type": "code",
      "source": [
        "governing_law_candidate_phrase_score.take(3)"
      ],
      "metadata": {
        "colab": {
          "base_uri": "https://localhost:8080/"
        },
        "id": "IZs4oUat4knl",
        "outputId": "e58879cb-a6ca-4beb-b84b-716d84df402e"
      },
      "execution_count": null,
      "outputs": [
        {
          "output_type": "execute_result",
          "data": {
            "text/plain": [
              "[[('laws shall prevail', 7.5),\n",
              "  ('laws thereof', 4.5),\n",
              "  ('shall', 2.0),\n",
              "  ('accepted', 1.0),\n",
              "  ('accordance', 1.0),\n",
              "  ('agreement', 1.0),\n",
              "  ('company', 1.0),\n",
              "  ('conflict', 1.0),\n",
              "  ('construed', 1.0),\n",
              "  ('event', 1.0),\n",
              "  ('governed', 1.0),\n",
              "  ('nevada', 1.0),\n",
              "  ('state', 1.0)],\n",
              " [('canada applicable therein', 9.0),\n",
              "  ('agreement shall', 4.0),\n",
              "  ('federal laws', 3.5),\n",
              "  ('laws', 1.5),\n",
              "  ('governed', 1.0),\n",
              "  ('ontario', 1.0),\n",
              "  ('province', 1.0)],\n",
              " [('canadian radio-television', 4.0),\n",
              "  ('federal governments', 4.0),\n",
              "  ('hereafter adopted', 4.0),\n",
              "  ('license conditions', 4.0),\n",
              "  ('telecommunications commission', 4.0),\n",
              "  ('‚äúapplicable law‚äù', 4.0),\n",
              "  ('agreement', 1.0),\n",
              "  ('applicable', 1.0),\n",
              "  ('authorities', 1.0),\n",
              "  ('decisions', 1.0),\n",
              "  ('force', 1.0),\n",
              "  ('laws', 1.0),\n",
              "  ('licensor', 1.0),\n",
              "  ('municipal', 1.0),\n",
              "  ('provincial', 1.0),\n",
              "  ('regulations', 1.0),\n",
              "  ('rogers', 1.0),\n",
              "  ('subject', 1.0),\n",
              "  ('‚äúcrtc‚äù', 1.0)]]"
            ]
          },
          "metadata": {},
          "execution_count": 69
        }
      ]
    },
    {
      "cell_type": "markdown",
      "source": [
        "**candidate phrase score calculation of change_of_control**"
      ],
      "metadata": {
        "id": "WoBWm7ik4ckf"
      }
    },
    {
      "cell_type": "code",
      "source": [
        "change_of_control_candidate_phrase_score.take(3)"
      ],
      "metadata": {
        "colab": {
          "base_uri": "https://localhost:8080/"
        },
        "id": "uikB5eOf4nCQ",
        "outputId": "ff26547d-37ee-492b-f6e4-a46b6dc6f355"
      },
      "execution_count": null,
      "outputs": [
        {
          "output_type": "execute_result",
          "data": {
            "text/plain": [
              "[[('reorganization involving licensee', 8.5),\n",
              "  ('whether licensee', 4.5),\n",
              "  ('disappearing entity', 4.0),\n",
              "  ('preceding sentence', 4.0),\n",
              "  ('without limiting', 4.0),\n",
              "  ('agreement', 1.0),\n",
              "  ('consolidation', 1.0),\n",
              "  ('deemed', 1.0),\n",
              "  ('generality', 1.0),\n",
              "  ('merger', 1.0),\n",
              "  ('obligations', 1.0),\n",
              "  ('performance', 1.0),\n",
              "  ('purposes', 1.0),\n",
              "  ('regardless', 1.0),\n",
              "  ('required', 1.0),\n",
              "  ('rights', 1.0),\n",
              "  ('surviving', 1.0),\n",
              "  ('transfer', 1.0)],\n",
              " [('date first stated', 9.0),\n",
              "  ('unless terminated earlier', 9.0),\n",
              "  ('shall continue', 4.0),\n",
              "  ('agreement shall', 3.5),\n",
              "  ('agreement', 1.5),\n",
              "  ('``', 1.0),\n",
              "  ('accordance', 1.0),\n",
              "  ('effective', 1.0),\n",
              "  ('provided', 1.0),\n",
              "  ('provisions', 1.0),\n",
              "  ('term', 1.0),\n",
              "  ('term', 1.0),\n",
              "  ('three', 1.0),\n",
              "  ('years', 1.0)],\n",
              " [(\"control '' '' means\", 11.666666666666666),\n",
              "  (\"`` '' change\", 8.666666666666666),\n",
              "  ('``', 2.0),\n",
              "  ('agreement', 1.0),\n",
              "  ('consolidation', 1.0),\n",
              "  ('merger', 1.0),\n",
              "  ('party', 1.0),\n",
              "  ('purposes', 1.0)]]"
            ]
          },
          "metadata": {},
          "execution_count": 70
        }
      ]
    },
    {
      "cell_type": "markdown",
      "source": [
        "**candidate phrase score calculation of anti_assignment**"
      ],
      "metadata": {
        "id": "e_CyzhyV4g7I"
      }
    },
    {
      "cell_type": "code",
      "source": [
        "anti_assignment_candidate_phrase_score.take(3)"
      ],
      "metadata": {
        "colab": {
          "base_uri": "https://localhost:8080/"
        },
        "id": "uUWVJBdI4qgK",
        "outputId": "08011261-33bf-4a75-c6eb-c160c4c34c3a"
      },
      "execution_count": null,
      "outputs": [
        {
          "output_type": "execute_result",
          "data": {
            "text/plain": [
              "[[('rights granted pursuant', 9.0),\n",
              "  ('otherwise transfer', 4.0),\n",
              "  ('assign', 1.0),\n",
              "  ('company', 1.0),\n",
              "  ('lease', 1.0),\n",
              "  ('may', 1.0),\n",
              "  ('party', 1.0),\n",
              "  ('sell', 1.0),\n",
              "  ('whole', 1.0)],\n",
              " [('prior written consent', 9.0),\n",
              "  ('agreement may', 4.0),\n",
              "  ('transferred without', 4.0),\n",
              "  ('assigned', 1.0),\n",
              "  ('party', 1.0),\n",
              "  ('sold', 1.0)],\n",
              " [('assets used', 4.0),\n",
              "  ('indirectly controls', 4.0),\n",
              "  ('rod service', 4.0),\n",
              "  ('without consent', 4.0),\n",
              "  ('rogers may', 3.666666666666667),\n",
              "  ('rogers shall', 3.666666666666667),\n",
              "  ('common control', 3.5),\n",
              "  ('rogers', 1.6666666666666667),\n",
              "  ('control', 1.5),\n",
              "  ('agreement', 1.0),\n",
              "  ('agreement', 1.0),\n",
              "  ('assign', 1.0),\n",
              "  ('assignment', 1.0),\n",
              "  ('change', 1.0),\n",
              "  ('connection', 1.0),\n",
              "  ('considered', 1.0),\n",
              "  ('controlled', 1.0),\n",
              "  ('directly', 1.0),\n",
              "  ('foregoing', 1.0),\n",
              "  ('ii', 1.0),\n",
              "  ('notwithstanding', 1.0),\n",
              "  ('obligations', 1.0),\n",
              "  ('part', 1.0),\n",
              "  ('person', 1.0),\n",
              "  ('purchaser', 1.0),\n",
              "  ('rights', 1.0),\n",
              "  ('substantially', 1.0),\n",
              "  ('whole', 1.0)]]"
            ]
          },
          "metadata": {},
          "execution_count": 71
        }
      ]
    },
    {
      "cell_type": "markdown",
      "metadata": {
        "id": "kU2Xf25_YRYg"
      },
      "source": [
        "First to calculate the frequency value, degree value, feature extraction value for each keyword"
      ]
    },
    {
      "cell_type": "markdown",
      "source": [
        "Calculate the rdf, edf, and ess"
      ],
      "metadata": {
        "id": "mRv3NehewPoz"
      }
    },
    {
      "cell_type": "code",
      "source": [
        "#Put each line in format like (phrase, 1) then sum up the count of same phrase to get the frequency of this phrase\n",
        "governing_law_rdf = governing_law_candidate_phrase_score.flatMap(lambda x: x).map(lambda x: (x[0], 1)).reduceByKey(lambda x, y: x + y)\n",
        "change_of_control_rdf = change_of_control_candidate_phrase_score.flatMap(lambda x: x).map(lambda x: (x[0], 1)).reduceByKey(lambda x, y: x + y)\n",
        "anti_assignment_rdf = anti_assignment_candidate_phrase_score.flatMap(lambda x: x).map(lambda x: (x[0], 1)).reduceByKey(lambda x, y: x + y)"
      ],
      "metadata": {
        "id": "bbpgvXx048vm"
      },
      "execution_count": null,
      "outputs": []
    },
    {
      "cell_type": "markdown",
      "source": [
        "**rdf of governing_law**"
      ],
      "metadata": {
        "id": "0dbGv4fWOj3p"
      }
    },
    {
      "cell_type": "code",
      "source": [
        "governing_law_rdf.map(lambda x: (x[0] + \"(rdf: \" + str(x[1]) + \")\")).take(20)"
      ],
      "metadata": {
        "id": "UKmaVQoE5SyE",
        "colab": {
          "base_uri": "https://localhost:8080/"
        },
        "outputId": "c46ba737-d568-4f27-8929-6e0ff5782449"
      },
      "execution_count": null,
      "outputs": [
        {
          "output_type": "execute_result",
          "data": {
            "text/plain": [
              "['laws shall prevail(rdf: 1)',\n",
              " 'laws thereof(rdf: 3)',\n",
              " 'shall(rdf: 47)',\n",
              " 'accepted(rdf: 3)',\n",
              " 'accordance(rdf: 294)',\n",
              " 'agreement(rdf: 196)',\n",
              " 'company(rdf: 3)',\n",
              " 'conflict(rdf: 112)',\n",
              " 'construed(rdf: 263)',\n",
              " 'event(rdf: 3)',\n",
              " 'governed(rdf: 376)',\n",
              " 'nevada(rdf: 8)',\n",
              " 'state(rdf: 396)',\n",
              " 'canada applicable therein(rdf: 4)',\n",
              " 'agreement shall(rdf: 250)',\n",
              " 'federal laws(rdf: 6)',\n",
              " 'laws(rdf: 462)',\n",
              " 'ontario(rdf: 13)',\n",
              " 'province(rdf: 15)',\n",
              " 'canadian radio-television(rdf: 1)']"
            ]
          },
          "metadata": {},
          "execution_count": 73
        }
      ]
    },
    {
      "cell_type": "markdown",
      "source": [
        "**rdf of change_of_control**\n"
      ],
      "metadata": {
        "id": "bHyHNG9OOqxR"
      }
    },
    {
      "cell_type": "code",
      "source": [
        "change_of_control_rdf.map(lambda x: (x[0] + \"(rdf: \" + str(x[1]) + \")\")).take(20)"
      ],
      "metadata": {
        "id": "_IjPLD7X5Yg9",
        "colab": {
          "base_uri": "https://localhost:8080/"
        },
        "outputId": "dd4785d9-133e-456c-da30-83bec48e38e7"
      },
      "execution_count": null,
      "outputs": [
        {
          "output_type": "execute_result",
          "data": {
            "text/plain": [
              "['reorganization involving licensee(rdf: 1)',\n",
              " 'whether licensee(rdf: 2)',\n",
              " 'disappearing entity(rdf: 1)',\n",
              " 'preceding sentence(rdf: 2)',\n",
              " 'without limiting(rdf: 2)',\n",
              " 'agreement(rdf: 152)',\n",
              " 'consolidation(rdf: 32)',\n",
              " 'deemed(rdf: 14)',\n",
              " 'generality(rdf: 1)',\n",
              " 'merger(rdf: 52)',\n",
              " 'obligations(rdf: 23)',\n",
              " 'performance(rdf: 4)',\n",
              " 'purposes(rdf: 14)',\n",
              " 'regardless(rdf: 2)',\n",
              " 'required(rdf: 9)',\n",
              " 'rights(rdf: 33)',\n",
              " 'surviving(rdf: 2)',\n",
              " 'transfer(rdf: 47)',\n",
              " 'date first stated(rdf: 1)',\n",
              " 'unless terminated earlier(rdf: 1)']"
            ]
          },
          "metadata": {},
          "execution_count": 74
        }
      ]
    },
    {
      "cell_type": "markdown",
      "source": [
        "**rdf of anti_assignment**"
      ],
      "metadata": {
        "id": "KUZ111TIOxcY"
      }
    },
    {
      "cell_type": "code",
      "source": [
        "anti_assignment_rdf.map(lambda x: (x[0] + \"(rdf: \" + str(x[1]) + \")\")).take(20)"
      ],
      "metadata": {
        "id": "z4G1XTBC5Y3J",
        "colab": {
          "base_uri": "https://localhost:8080/"
        },
        "outputId": "fb0f5df5-6927-435f-c87f-2d2bd4daec60"
      },
      "execution_count": null,
      "outputs": [
        {
          "output_type": "execute_result",
          "data": {
            "text/plain": [
              "['rights granted pursuant(rdf: 2)',\n",
              " 'otherwise transfer(rdf: 39)',\n",
              " 'assign(rdf: 207)',\n",
              " 'company(rdf: 34)',\n",
              " 'lease(rdf: 7)',\n",
              " 'may(rdf: 24)',\n",
              " 'party(rdf: 270)',\n",
              " 'sell(rdf: 21)',\n",
              " 'whole(rdf: 84)',\n",
              " 'prior written consent(rdf: 251)',\n",
              " 'agreement may(rdf: 50)',\n",
              " 'transferred without(rdf: 1)',\n",
              " 'assigned(rdf: 113)',\n",
              " 'sold(rdf: 4)',\n",
              " 'assets used(rdf: 1)',\n",
              " 'indirectly controls(rdf: 1)',\n",
              " 'rod service(rdf: 1)',\n",
              " 'without consent(rdf: 4)',\n",
              " 'rogers may(rdf: 1)',\n",
              " 'rogers shall(rdf: 1)']"
            ]
          },
          "metadata": {},
          "execution_count": 75
        }
      ]
    },
    {
      "cell_type": "markdown",
      "source": [
        "Then calculate the edf of each corpora"
      ],
      "metadata": {
        "id": "QzZTDE3sPGyk"
      }
    },
    {
      "cell_type": "code",
      "source": [
        "#Choose the top 4 score phrase of each document first\n",
        "#Then put each line in format like (phrase, 1) then sum up the count of same phrase to get the frequency of this phrase\n",
        "governing_law_edf = governing_law_candidate_phrase_score.flatMap(lambda x: (x[0], x[1], x[2], x[3]) if len(x) > 4 else x[:len(x)]).map(lambda x: (x[0], 1)).reduceByKey(lambda x, y: x + y)\n",
        "change_of_control_edf = change_of_control_candidate_phrase_score.flatMap(lambda x: (x[0], x[1], x[2], x[3]) if len(x) > 4 else x[:len(x)]).map(lambda x: (x[0], 1)).reduceByKey(lambda x, y: x + y)\n",
        "anti_assignment_edf = anti_assignment_candidate_phrase_score.flatMap(lambda x: (x[0], x[1], x[2], x[3]) if len(x) > 4 else x[:len(x)]).map(lambda x: (x[0], 1)).reduceByKey(lambda x, y: x + y)"
      ],
      "metadata": {
        "id": "Q3uA7BlP5jHw"
      },
      "execution_count": null,
      "outputs": []
    },
    {
      "cell_type": "markdown",
      "source": [
        "**edf of governing_law**"
      ],
      "metadata": {
        "id": "ITr2VbKOO5_a"
      }
    },
    {
      "cell_type": "code",
      "source": [
        "governing_law_edf.map(lambda x: (x[0] + \"(edf: \" + str(x[1]) + \")\")).take(20)"
      ],
      "metadata": {
        "id": "P0xc95qS5uAY",
        "colab": {
          "base_uri": "https://localhost:8080/"
        },
        "outputId": "8e5d7586-2018-4a82-c4c5-707e829b3a88"
      },
      "execution_count": null,
      "outputs": [
        {
          "output_type": "execute_result",
          "data": {
            "text/plain": [
              "['laws shall prevail(edf: 1)',\n",
              " 'laws thereof(edf: 2)',\n",
              " 'shall(edf: 2)',\n",
              " 'accepted(edf: 1)',\n",
              " 'canada applicable therein(edf: 4)',\n",
              " 'agreement shall(edf: 226)',\n",
              " 'federal laws(edf: 3)',\n",
              " 'laws(edf: 56)',\n",
              " 'canadian radio-television(edf: 1)',\n",
              " 'federal governments(edf: 1)',\n",
              " 'hereafter adopted(edf: 1)',\n",
              " 'license conditions(edf: 1)',\n",
              " 'parties hereto(edf: 2)',\n",
              " 'agreement(edf: 64)',\n",
              " 'construction(edf: 8)',\n",
              " 'florida(edf: 5)',\n",
              " 'nevada without giving effect(edf: 2)',\n",
              " 'internal laws(edf: 14)',\n",
              " 'law provision(edf: 5)',\n",
              " 'without giving effect(edf: 38)']"
            ]
          },
          "metadata": {},
          "execution_count": 77
        }
      ]
    },
    {
      "cell_type": "markdown",
      "source": [
        "**edf of change_of_control**"
      ],
      "metadata": {
        "id": "ZPj6sRpIPT-e"
      }
    },
    {
      "cell_type": "code",
      "source": [
        "change_of_control_edf.map(lambda x: (x[0] + \"(edf: \" + str(x[1]) + \")\")).take(20)"
      ],
      "metadata": {
        "id": "r9lTvjTk50FK",
        "colab": {
          "base_uri": "https://localhost:8080/"
        },
        "outputId": "7c375805-ef99-49f0-bacc-78e732191262"
      },
      "execution_count": null,
      "outputs": [
        {
          "output_type": "execute_result",
          "data": {
            "text/plain": [
              "['reorganization involving licensee(edf: 1)',\n",
              " 'whether licensee(edf: 1)',\n",
              " 'disappearing entity(edf: 1)',\n",
              " 'preceding sentence(edf: 1)',\n",
              " 'date first stated(edf: 1)',\n",
              " 'unless terminated earlier(edf: 1)',\n",
              " 'shall continue(edf: 1)',\n",
              " 'agreement shall(edf: 1)',\n",
              " \"control '' '' means(edf: 2)\",\n",
              " \"`` '' change(edf: 2)\",\n",
              " '``(edf: 2)',\n",
              " 'agreement(edf: 12)',\n",
              " 'neither party shall voluntarily(edf: 1)',\n",
              " 'obligations incurred pursuant(edf: 1)',\n",
              " 'prior written consent(edf: 18)',\n",
              " 'agreement without(edf: 1)',\n",
              " 'financial resources substantially similar(edf: 1)',\n",
              " 'shall specifically assume(edf: 1)',\n",
              " 'control transaction(edf: 2)',\n",
              " 'skype holding may assign(edf: 1)']"
            ]
          },
          "metadata": {},
          "execution_count": 78
        }
      ]
    },
    {
      "cell_type": "markdown",
      "source": [
        "**edf of anti_assignment**"
      ],
      "metadata": {
        "id": "t53P8m5tPhxZ"
      }
    },
    {
      "cell_type": "code",
      "source": [
        "anti_assignment_edf.map(lambda x: (x[0] + \"(edf: \" + str(x[1]) + \")\")).take(20)"
      ],
      "metadata": {
        "id": "4P_xuvpr53Tt",
        "colab": {
          "base_uri": "https://localhost:8080/"
        },
        "outputId": "98680e12-a27d-42e6-c913-e1b95749c377"
      },
      "execution_count": null,
      "outputs": [
        {
          "output_type": "execute_result",
          "data": {
            "text/plain": [
              "['rights granted pursuant(edf: 2)',\n",
              " 'otherwise transfer(edf: 18)',\n",
              " 'assign(edf: 28)',\n",
              " 'company(edf: 1)',\n",
              " 'prior written consent(edf: 233)',\n",
              " 'agreement may(edf: 33)',\n",
              " 'transferred without(edf: 1)',\n",
              " 'assigned(edf: 15)',\n",
              " 'assets used(edf: 1)',\n",
              " 'indirectly controls(edf: 1)',\n",
              " 'rod service(edf: 1)',\n",
              " 'without consent(edf: 3)',\n",
              " 'purported assignment(edf: 10)',\n",
              " 'section shall(edf: 7)',\n",
              " 'contravention(edf: 5)',\n",
              " 'null(edf: 16)',\n",
              " 'case whether voluntarily(edf: 2)',\n",
              " 'licensee shall(edf: 5)',\n",
              " 'section 11.7(edf: 1)',\n",
              " 'delegation(edf: 5)']"
            ]
          },
          "metadata": {},
          "execution_count": 79
        }
      ]
    },
    {
      "cell_type": "markdown",
      "source": [
        "Count ess of each corpora and get ess, rdf, edf together to be shown"
      ],
      "metadata": {
        "id": "t9mzSR-CPm40"
      }
    },
    {
      "cell_type": "code",
      "source": [
        "# ess is calculated by join rdf to edf and find the ratio of edf to rdf, the result shall be quoted in two decimal places\n",
        "# Then the final result is shown in format: keyword(ess: x, rdf: y, edf: z)\n",
        "governing_law_ess_rdf_edf = governing_law_rdf.join(governing_law_edf).map(lambda x: (x[0], round((x[1][1]**2) * 1.0 / x[1][0], 2), x[1][0], x[1][1])).sortBy(lambda x: -x[1])\n",
        "change_of_control_ess_rdf_edf = change_of_control_rdf.join(change_of_control_edf).map(lambda x: (x[0], round((x[1][1]**2) * 1.0 / x[1][0], 2), x[1][0], x[1][1])).sortBy(lambda x: -x[1])\n",
        "anti_assignment_ess_rdf_edf = anti_assignment_rdf.join(anti_assignment_edf).map(lambda x: (x[0], round((x[1][1]**2) * 1.0 / x[1][0], 2), x[1][0], x[1][1])).sortBy(lambda x: -x[1])"
      ],
      "metadata": {
        "id": "ozqFBgen6Ggi"
      },
      "execution_count": null,
      "outputs": []
    },
    {
      "cell_type": "markdown",
      "source": [
        "**Show the result of governing_law of method 1**"
      ],
      "metadata": {
        "id": "HeEOSKrgRB26"
      }
    },
    {
      "cell_type": "code",
      "source": [
        "governing_law_ess_rdf_edf.map(lambda x: (x[0] + \"(ess: \" + str(x[1]) + \"; rdf: \" + str(x[2]) + \"; edf: \" + str(x[3]) + \")\")).take(20)"
      ],
      "metadata": {
        "colab": {
          "base_uri": "https://localhost:8080/"
        },
        "id": "m4UEW_TgHyJO",
        "outputId": "8f96462b-a1b7-4517-ea85-ec596301e004"
      },
      "execution_count": null,
      "outputs": [
        {
          "output_type": "execute_result",
          "data": {
            "text/plain": [
              "['agreement shall(ess: 204.3; rdf: 250; edf: 226)',\n",
              " 'accordance(ess: 67.62; rdf: 294; edf: 141)',\n",
              " 'new york(ess: 54.4; rdf: 85; edf: 68)',\n",
              " 'without giving effect(ess: 38.0; rdf: 38; edf: 38)',\n",
              " 'without regard(ess: 33.47; rdf: 66; edf: 47)',\n",
              " 'law principles(ess: 23.08; rdf: 39; edf: 30)',\n",
              " 'agreement(ess: 20.9; rdf: 196; edf: 64)',\n",
              " 'law provisions(ess: 17.05; rdf: 19; edf: 18)',\n",
              " 'laws principles(ess: 15.56; rdf: 34; edf: 23)',\n",
              " 'law rules(ess: 14.45; rdf: 20; edf: 17)',\n",
              " 'without reference(ess: 14.44; rdf: 25; edf: 19)',\n",
              " 'united states(ess: 11.13; rdf: 23; edf: 16)',\n",
              " 'substantive laws(ess: 10.23; rdf: 22; edf: 15)',\n",
              " 'british columbia(ess: 10.08; rdf: 12; edf: 11)',\n",
              " 'performed entirely within(ess: 9.0; rdf: 9; edf: 9)',\n",
              " 'new york without regard(ess: 9.0; rdf: 9; edf: 9)',\n",
              " 'united nations convention(ess: 9.0; rdf: 9; edf: 9)',\n",
              " 'new york applicable(ess: 9.0; rdf: 9; edf: 9)',\n",
              " 'another jurisdiction(ess: 8.33; rdf: 12; edf: 10)',\n",
              " 'internal laws(ess: 8.17; rdf: 24; edf: 14)']"
            ]
          },
          "metadata": {},
          "execution_count": 81
        }
      ]
    },
    {
      "cell_type": "markdown",
      "source": [
        "**Show the result of change_of_control of method 1**"
      ],
      "metadata": {
        "id": "PLHkZAj7RLHX"
      }
    },
    {
      "cell_type": "code",
      "source": [
        "change_of_control_ess_rdf_edf.map(lambda x: (x[0] + \"(ess: \" + str(x[1]) + \"; rdf: \" + str(x[2]) + \"; edf: \" + str(x[3]) + \")\")).take(20)"
      ],
      "metadata": {
        "colab": {
          "base_uri": "https://localhost:8080/"
        },
        "id": "S_Jt_UrPHzwV",
        "outputId": "e377972f-2f27-4cea-b8c8-16c8ed137f91"
      },
      "execution_count": null,
      "outputs": [
        {
          "output_type": "execute_result",
          "data": {
            "text/plain": [
              "['prior written consent(ess: 16.2; rdf: 20; edf: 18)',\n",
              " 'home named competitor(ess: 6.0; rdf: 6; edf: 6)',\n",
              " 'ownership transfer(ess: 5.0; rdf: 5; edf: 5)',\n",
              " 'days written notice(ess: 4.17; rdf: 6; edf: 5)',\n",
              " 'indenture trustee(ess: 4.0; rdf: 4; edf: 4)',\n",
              " 'agreement without consent(ess: 4.0; rdf: 4; edf: 4)',\n",
              " 'provide services shall(ess: 4.0; rdf: 4; edf: 4)',\n",
              " 'agreement may(ess: 3.5; rdf: 14; edf: 7)',\n",
              " 'control shall(ess: 3.0; rdf: 3; edf: 3)',\n",
              " 'agreement upon written notice(ess: 3.0; rdf: 3; edf: 3)',\n",
              " 'control buy-out payment(ess: 3.0; rdf: 3; edf: 3)',\n",
              " 'licensor may terminate(ess: 3.0; rdf: 3; edf: 3)',\n",
              " 'express written consent(ess: 3.0; rdf: 3; edf: 3)',\n",
              " 'franchised business(ess: 3.0; rdf: 3; edf: 3)',\n",
              " 'another corporation(ess: 3.0; rdf: 3; edf: 3)',\n",
              " 'control event(ess: 2.27; rdf: 11; edf: 5)',\n",
              " 'competitive product(ess: 2.25; rdf: 4; edf: 3)',\n",
              " 'affected party(ess: 2.25; rdf: 4; edf: 3)',\n",
              " 'ordinary course(ess: 2.25; rdf: 4; edf: 3)',\n",
              " 'agreement shall terminate(ess: 2.25; rdf: 4; edf: 3)']"
            ]
          },
          "metadata": {},
          "execution_count": 82
        }
      ]
    },
    {
      "cell_type": "markdown",
      "source": [
        "**Show the result of anti_assignment of method 1**"
      ],
      "metadata": {
        "id": "7KE4HU7kROaz"
      }
    },
    {
      "cell_type": "code",
      "source": [
        "anti_assignment_ess_rdf_edf.map(lambda x: (x[0] + \"(ess: \" + str(x[1]) + \"; rdf: \" + str(x[2]) + \"; edf: \" + str(x[3]) + \")\")).take(20)"
      ],
      "metadata": {
        "colab": {
          "base_uri": "https://localhost:8080/"
        },
        "id": "AXcHBM6dH0AO",
        "outputId": "d96369ba-1f3f-4cac-8fff-f2fb3b0e0267"
      },
      "execution_count": null,
      "outputs": [
        {
          "output_type": "execute_result",
          "data": {
            "text/plain": [
              "['prior written consent(ess: 216.29; rdf: 251; edf: 233)',\n",
              " 'neither party may assign(ess: 53.07; rdf: 57; edf: 55)',\n",
              " 'agreement without(ess: 35.56; rdf: 79; edf: 53)',\n",
              " 'either party without(ess: 30.42; rdf: 38; edf: 34)',\n",
              " 'either party may assign(ess: 27.0; rdf: 27; edf: 27)',\n",
              " 'agreement may(ess: 21.78; rdf: 50; edf: 33)',\n",
              " 'attempted assignment(ess: 18.24; rdf: 29; edf: 23)',\n",
              " 'neither party shall assign(ess: 18.0; rdf: 18; edf: 18)',\n",
              " 'neither party shall(ess: 13.0; rdf: 13; edf: 13)',\n",
              " 'obligations hereunder without(ess: 12.8; rdf: 20; edf: 16)',\n",
              " 'express written consent(ess: 12.0; rdf: 12; edf: 12)',\n",
              " 'third party without(ess: 11.53; rdf: 17; edf: 14)',\n",
              " 'consent shall(ess: 11.26; rdf: 43; edf: 22)',\n",
              " 'party may assign(ess: 11.25; rdf: 20; edf: 15)',\n",
              " 'prior written approval(ess: 11.0; rdf: 11; edf: 11)',\n",
              " 'agreement shall(ess: 11.0; rdf: 44; edf: 22)',\n",
              " 'third party(ess: 10.72; rdf: 68; edf: 27)',\n",
              " 'agreement(ess: 9.38; rdf: 493; edf: 68)',\n",
              " 'express prior written consent(ess: 9.0; rdf: 9; edf: 9)',\n",
              " 'otherwise transfer(ess: 8.31; rdf: 39; edf: 18)']"
            ]
          },
          "metadata": {},
          "execution_count": 83
        }
      ]
    },
    {
      "cell_type": "markdown",
      "source": [
        "## **Method 2**"
      ],
      "metadata": {
        "id": "L7wwUimGVP2k"
      }
    },
    {
      "cell_type": "markdown",
      "source": [
        "### **Calculate the candidate for method 2**"
      ],
      "metadata": {
        "id": "6jc0PHmbUNRh"
      }
    },
    {
      "cell_type": "markdown",
      "source": [
        "First: map the candidate for method 2"
      ],
      "metadata": {
        "id": "B2V_WD52SS82"
      }
    },
    {
      "cell_type": "code",
      "source": [
        "# Simply flatMap the candidate for method 1, remove the list boundry of each document, them get the candiate for method 2\n",
        "governing_law_method2_candidate = governing_law_data.flatMap(lambda x: x)\n",
        "change_of_control_method2_candidate = change_of_control_data.flatMap(lambda x: x)\n",
        "anti_assignment_method2_candidate = anti_assignment_data.flatMap(lambda x: x)"
      ],
      "metadata": {
        "id": "cU3hQEPfd5ft"
      },
      "execution_count": null,
      "outputs": []
    },
    {
      "cell_type": "markdown",
      "source": [
        "**Show the candidate for governing_law of method 2**"
      ],
      "metadata": {
        "id": "maPWng4MSw5u"
      }
    },
    {
      "cell_type": "code",
      "source": [
        "governing_law_method2_candidate.take(15)"
      ],
      "metadata": {
        "colab": {
          "base_uri": "https://localhost:8080/"
        },
        "id": "XCUBqCWUJ99J",
        "outputId": "2a7570c3-acc5-49c9-bf3a-294bb0d33afc"
      },
      "execution_count": null,
      "outputs": [
        {
          "output_type": "execute_result",
          "data": {
            "text/plain": [
              "['agreement',\n",
              " 'accepted',\n",
              " 'company',\n",
              " 'state',\n",
              " 'nevada',\n",
              " 'shall',\n",
              " 'governed',\n",
              " 'construed',\n",
              " 'accordance',\n",
              " 'laws thereof',\n",
              " 'laws shall prevail',\n",
              " 'event',\n",
              " 'conflict',\n",
              " 'agreement shall',\n",
              " 'governed']"
            ]
          },
          "metadata": {},
          "execution_count": 86
        }
      ]
    },
    {
      "cell_type": "markdown",
      "source": [
        "**Show the candidate for change_of_control of method 2**"
      ],
      "metadata": {
        "id": "u9GCjn-4S5BH"
      }
    },
    {
      "cell_type": "code",
      "source": [
        "change_of_control_method2_candidate.take(15)"
      ],
      "metadata": {
        "colab": {
          "base_uri": "https://localhost:8080/"
        },
        "id": "mzy7HCeRJ-Ks",
        "outputId": "f6a3017d-9c9b-488c-ca4e-a93e6ea055e1"
      },
      "execution_count": null,
      "outputs": [
        {
          "output_type": "execute_result",
          "data": {
            "text/plain": [
              "['purposes',\n",
              " 'preceding sentence',\n",
              " 'without limiting',\n",
              " 'generality',\n",
              " 'merger',\n",
              " 'consolidation',\n",
              " 'reorganization involving licensee',\n",
              " 'regardless',\n",
              " 'whether licensee',\n",
              " 'surviving',\n",
              " 'disappearing entity',\n",
              " 'deemed',\n",
              " 'transfer',\n",
              " 'rights',\n",
              " 'obligations']"
            ]
          },
          "metadata": {},
          "execution_count": 87
        }
      ]
    },
    {
      "cell_type": "markdown",
      "source": [
        "**Show the candidate for anti_assignment of method 2**"
      ],
      "metadata": {
        "id": "UL6MTssQS8tB"
      }
    },
    {
      "cell_type": "code",
      "source": [
        "anti_assignment_method2_candidate.take(15)"
      ],
      "metadata": {
        "colab": {
          "base_uri": "https://localhost:8080/"
        },
        "id": "lWDiIdGsJ-bl",
        "outputId": "32688b27-f69c-4d6b-8c56-04cc8834a380"
      },
      "execution_count": null,
      "outputs": [
        {
          "output_type": "execute_result",
          "data": {
            "text/plain": [
              "['may',\n",
              " 'assign',\n",
              " 'sell',\n",
              " 'lease',\n",
              " 'otherwise transfer',\n",
              " 'whole',\n",
              " 'party',\n",
              " 'rights granted pursuant',\n",
              " 'company',\n",
              " 'agreement may',\n",
              " 'assigned',\n",
              " 'sold',\n",
              " 'transferred without',\n",
              " 'prior written consent',\n",
              " 'party']"
            ]
          },
          "metadata": {},
          "execution_count": 88
        }
      ]
    },
    {
      "cell_type": "markdown",
      "source": [
        "### **Calculate Word Score for Method 2**"
      ],
      "metadata": {
        "id": "loIFhd7FVOMC"
      }
    },
    {
      "cell_type": "markdown",
      "source": [
        "This function is to calculate the score of each word in candidate phrase.\n",
        "\n",
        "First all cancidate will be show in format(candidate, 1) and then be reduced.\n",
        "\n",
        "Then find the frequency of each word.\n",
        "\n",
        "Then find the co-occurrence of each word and union with frequency to reduce(add them up) them together to get the degree of each word.\n",
        "\n",
        "Join frequency with degree and calculate degree/frequency to get the score of each word."
      ],
      "metadata": {
        "id": "oZD6vXJbTATw"
      }
    },
    {
      "cell_type": "code",
      "source": [
        "# this method calculate the frequency for every candidate\n",
        "def calculate_frequency(word_list):\n",
        "  words, countt = word_list\n",
        "  result = []\n",
        "  \n",
        "  if len(words.split(\" \")) > 1:\n",
        "    i = 0\n",
        "    words = words.split(\" \")\n",
        "    while i < len(words):\n",
        "      result.append((words[i], words.count(words[i]) * countt))\n",
        "      i += 1\n",
        "  else:\n",
        "    result.append((words, countt))\n",
        "  return result"
      ],
      "metadata": {
        "id": "WGEewTpKuoVS"
      },
      "execution_count": null,
      "outputs": []
    },
    {
      "cell_type": "code",
      "source": [
        "# this method calculate the cooccurrence for every candidate\n",
        "def calculate_cooccurrence(word_list):\n",
        "  words, countt = word_list\n",
        "  result = []\n",
        "  \n",
        "  if len(words.split(\" \")) > 1:\n",
        "    i = 0\n",
        "    words = words.split(\" \")\n",
        "    while i < len(words):\n",
        "      result.append((words[i], words.count(words[i]) * countt * (len(words) - 1)))\n",
        "      i += 1\n",
        "  else:\n",
        "    result.append((words, 0))\n",
        "  return result"
      ],
      "metadata": {
        "id": "URoG-OFvw9yj"
      },
      "execution_count": null,
      "outputs": []
    },
    {
      "cell_type": "code",
      "source": [
        "def get_word_score(phrase_candidates):\n",
        "\n",
        "  #To put every word in the phrase as a new line together with the phrase  \n",
        "  word_list = phrase_candidates.map(lambda x: (x, 1)).reduceByKey(lambda x, y: x + y)\n",
        "\n",
        "  #Calculate frequency by multiply the reduced phrase number by the number of that word in that phrase and reduce.\n",
        "  word_list_frequency = word_list.flatMap(calculate_frequency).map(lambda x: (x[0], x[1])).reduceByKey(lambda x, y: x + y)\n",
        "\n",
        "  #Calculate co-occurrence by multiply the length-1 of that phrase by the reduced phrase number by the number of that word in that phrase and reduce.\n",
        "  word_list_cooccurrence = word_list.flatMap(calculate_cooccurrence).map(lambda x: (x[0], x[1])).reduceByKey(lambda x, y: x + y)\n",
        "  \n",
        "  #Use cooccurrence union with frequency to calculate degree\n",
        "  word_list_degree = word_list_cooccurrence.reduceByKey(lambda x, y: x + y).union(word_list_frequency).reduceByKey(lambda x, y: x + y)\n",
        "\n",
        "  #calculate word score by join frequency and degree and find the ratio of degree to frequency\n",
        "  return word_list_frequency.join(word_list_degree).map(lambda x: (x[0], round(x[1][1]*1.0/x[1][0], 2)))"
      ],
      "metadata": {
        "id": "XBR5gkRbv5G1"
      },
      "execution_count": null,
      "outputs": []
    },
    {
      "cell_type": "code",
      "source": [
        "governing_law_method2_word_score = get_word_score(governing_law_method2_candidate)\n",
        "change_of_control_method2_word_score = get_word_score(change_of_control_method2_candidate)\n",
        "anti_assignment_method2_word_score = get_word_score(anti_assignment_method2_candidate)"
      ],
      "metadata": {
        "id": "lgcd75V4wwAE"
      },
      "execution_count": null,
      "outputs": []
    },
    {
      "cell_type": "markdown",
      "source": [
        "**Show the word score of governing_law**"
      ],
      "metadata": {
        "id": "8X4yNVXgYHZq"
      }
    },
    {
      "cell_type": "code",
      "source": [
        "governing_law_method2_word_score.take(20)"
      ],
      "metadata": {
        "colab": {
          "base_uri": "https://localhost:8080/"
        },
        "id": "uZ89JIbGwhT_",
        "outputId": "c8fce7a9-6a2b-4c38-d143-fcd9e1d0628f"
      },
      "execution_count": null,
      "outputs": [
        {
          "output_type": "execute_result",
          "data": {
            "text/plain": [
              "[('agreement', 1.64),\n",
              " ('accepted', 1.0),\n",
              " ('company', 1.25),\n",
              " ('state', 1.1),\n",
              " ('nevada', 1.6),\n",
              " ('shall', 2.06),\n",
              " ('governed', 1.03),\n",
              " ('construed', 1.06),\n",
              " ('accordance', 1.0),\n",
              " ('laws', 1.3),\n",
              " ('thereof', 2.83),\n",
              " ('prevail', 2.0),\n",
              " ('event', 1.0),\n",
              " ('conflict', 1.11),\n",
              " ('province', 1.0),\n",
              " ('ontario', 1.0),\n",
              " ('federal', 2.07),\n",
              " ('canada', 1.85),\n",
              " ('applicable', 2.19),\n",
              " ('therein', 3.08)]"
            ]
          },
          "metadata": {},
          "execution_count": 345
        }
      ]
    },
    {
      "cell_type": "code",
      "source": [
        "governing_law_method2_word_score.take(10)"
      ],
      "metadata": {
        "colab": {
          "base_uri": "https://localhost:8080/"
        },
        "id": "QxiX-5LdKx-8",
        "outputId": "ff7bbdac-7ac6-4703-bfde-f26850afb42d"
      },
      "execution_count": null,
      "outputs": [
        {
          "output_type": "execute_result",
          "data": {
            "text/plain": [
              "[('agreement', 1.64),\n",
              " ('accepted', 1.0),\n",
              " ('company', 1.25),\n",
              " ('state', 1.1),\n",
              " ('nevada', 1.6),\n",
              " ('shall', 2.06),\n",
              " ('governed', 1.03),\n",
              " ('construed', 1.06),\n",
              " ('accordance', 1.0),\n",
              " ('thereof', 2.83)]"
            ]
          },
          "metadata": {},
          "execution_count": 215
        }
      ]
    },
    {
      "cell_type": "markdown",
      "source": [
        "**Show the word score of change_of_control**"
      ],
      "metadata": {
        "id": "EKjuaoCIYib6"
      }
    },
    {
      "cell_type": "code",
      "source": [
        "change_of_control_method2_word_score.take(10)"
      ],
      "metadata": {
        "colab": {
          "base_uri": "https://localhost:8080/"
        },
        "id": "2YMW_zgKKyNx",
        "outputId": "bded2ddb-124a-43ba-d1ef-b1a3d15bdf72"
      },
      "execution_count": null,
      "outputs": [
        {
          "output_type": "execute_result",
          "data": {
            "text/plain": [
              "[('purposes', 1.0),\n",
              " ('sentence', 2.25),\n",
              " ('preceding', 2.2),\n",
              " ('without', 2.04),\n",
              " ('limiting', 2.8),\n",
              " ('generality', 1.0),\n",
              " ('merger', 1.09),\n",
              " ('consolidation', 1.06),\n",
              " ('involving', 2.57),\n",
              " ('licensee', 1.78)]"
            ]
          },
          "metadata": {},
          "execution_count": 194
        }
      ]
    },
    {
      "cell_type": "markdown",
      "source": [
        "**Show the word score of anti_assignment**"
      ],
      "metadata": {
        "id": "HazRe4rGZCXH"
      }
    },
    {
      "cell_type": "code",
      "source": [
        "anti_assignment_method2_word_score.take(10)"
      ],
      "metadata": {
        "colab": {
          "base_uri": "https://localhost:8080/"
        },
        "id": "MjNRmLjSKyaJ",
        "outputId": "4b1875a0-3756-40a4-9cd7-069264f14d58"
      },
      "execution_count": null,
      "outputs": [
        {
          "output_type": "execute_result",
          "data": {
            "text/plain": [
              "[('may', 2.82),\n",
              " ('assign', 2.24),\n",
              " ('sell', 1.61),\n",
              " ('lease', 1.22),\n",
              " ('otherwise', 1.74),\n",
              " ('transfer', 1.45),\n",
              " ('whole', 1.0),\n",
              " ('party', 2.26),\n",
              " ('pursuant', 2.23),\n",
              " ('granted', 2.6)]"
            ]
          },
          "metadata": {},
          "execution_count": 94
        }
      ]
    },
    {
      "cell_type": "markdown",
      "source": [
        "## **Calculate the keyword score of method 2**"
      ],
      "metadata": {
        "id": "_UYU7D2gZKyW"
      }
    },
    {
      "cell_type": "code",
      "source": [
        "#This function is used to split candidate in format (word_in_candidate, candidate)\n",
        "def split_keywords(word_list):\n",
        "  result = []\n",
        "  if len(word_list.split(\" \")) > 1:\n",
        "    words = word_list.split(\" \")\n",
        "    i = 0\n",
        "    while i < len(words):\n",
        "      result.append((words[i], word_list))\n",
        "      i += 1\n",
        "  else:\n",
        "    result.append((word_list, word_list))\n",
        "\n",
        "  return result"
      ],
      "metadata": {
        "id": "Sza_QDY77QpS"
      },
      "execution_count": null,
      "outputs": []
    },
    {
      "cell_type": "code",
      "source": [
        "def get_sentence_score(candidates, word_score):\n",
        "\n",
        "  # split the candidate word\n",
        "  sequences = candidates.distinct().flatMap(split_keywords).map(lambda x: (x[0], x[1]))\n",
        "\n",
        "  # join the splited candidate with word score and reduce\n",
        "  sequence_score = sequences.join(word_score).map(lambda x: x[1]).reduceByKey(lambda a,b: a+b)\n",
        "\n",
        "  #return result in order\n",
        "  return sequence_score.union(word_score).sortBy(lambda x: -x[1])"
      ],
      "metadata": {
        "id": "Jz48mpLD-ftC"
      },
      "execution_count": null,
      "outputs": []
    },
    {
      "cell_type": "code",
      "source": [
        "governing_law_method2_result = get_sentence_score(governing_law_method2_candidate, governing_law_method2_word_score)\n",
        "change_of_control_method2_result = get_sentence_score(change_of_control_method2_candidate, change_of_control_method2_word_score)\n",
        "anti_assignment_method2_result = get_sentence_score(anti_assignment_method2_candidate, anti_assignment_method2_word_score)"
      ],
      "metadata": {
        "id": "YA64ZLwO1iYk"
      },
      "execution_count": null,
      "outputs": []
    },
    {
      "cell_type": "markdown",
      "source": [
        "**Show the result score of governing_law**"
      ],
      "metadata": {
        "id": "St1ZwoDdCLYR"
      }
    },
    {
      "cell_type": "code",
      "source": [
        "governing_law_method2_result.map(lambda x: (x[0] + \"(score: \" + str(round(x[1], 2)) + \")\")).take(20)"
      ],
      "metadata": {
        "colab": {
          "base_uri": "https://localhost:8080/"
        },
        "id": "sN4u9YYQ9jQz",
        "outputId": "9985fb00-b475-4378-c35f-70090a70617d"
      },
      "execution_count": null,
      "outputs": [
        {
          "output_type": "execute_result",
          "data": {
            "text/plain": [
              "['-- -- -- --(score: 15.2)',\n",
              " 'either party herein initiate(score: 13.75)',\n",
              " 'met independently without reference(score: 13.26)',\n",
              " 'intellectual property right applies(score: 12.25)',\n",
              " 'german private international law(score: 12.04)',\n",
              " 'parties hereto expressly attorns(score: 11.84)',\n",
              " 'agreement shall become valid(score: 11.7)',\n",
              " 'united states trademark act(score: 11.61)',\n",
              " 'transactions contemplated herein shall(score: 11.29)',\n",
              " 'agreement takes effect upon(score: 11.29)',\n",
              " 'maryland without giving effect(score: 11.16)',\n",
              " 'issues collateral thereto shall(score: 11.12)',\n",
              " 'pennsylvania without giving effect(score: 10.91)',\n",
              " 'intellectual property laws relevant(score: 10.88)',\n",
              " 'transactions contemplated hereby shall(score: 10.79)',\n",
              " 'either party may apply(score: 10.78)',\n",
              " 'new york without recourse(score: 10.62)',\n",
              " 'massachusetts without giving effect(score: 10.62)',\n",
              " 'delaware without giving effect(score: 10.56)',\n",
              " 'nevada without giving effect(score: 10.51)']"
            ]
          },
          "metadata": {},
          "execution_count": 364
        }
      ]
    },
    {
      "cell_type": "markdown",
      "source": [
        "**Show the result score of change_of_control**"
      ],
      "metadata": {
        "id": "mzRTlMWDCR7L"
      }
    },
    {
      "cell_type": "code",
      "source": [
        "change_of_control_method2_result.map(lambda x: (x[0] + \"(score: \" + str(round(x[1], 2)) + \")\")).take(20)"
      ],
      "metadata": {
        "colab": {
          "base_uri": "https://localhost:8080/"
        },
        "id": "60py4QsCLu41",
        "outputId": "e641418f-526f-4523-c285-aefcdb32f62f"
      },
      "execution_count": null,
      "outputs": [
        {
          "output_type": "execute_result",
          "data": {
            "text/plain": [
              "['vs key leadership position(score: 14.5)',\n",
              " 'reasonable detail based upon(score: 13.39)',\n",
              " 'successor- in-interest expressly assumes(score: 13.08)',\n",
              " 'post-termination royalty term therefor(score: 13.03)',\n",
              " 'without thereby becoming liable(score: 12.79)',\n",
              " 'golf instruction related products(score: 12.57)',\n",
              " 'advertising agency representing tda(score: 12.53)',\n",
              " 'ehave companion solution within(score: 12.53)',\n",
              " \"control '' '' means(score: 12.29)\",\n",
              " 'set aside within ninety(score: 12.25)',\n",
              " 'providing ebix written notice(score: 12.18)',\n",
              " 'vs�s outstanding voting securities(score: 12.11)',\n",
              " 'first refusal shall cease(score: 12.1)',\n",
              " 'janssen�s confidential information hereunder(score: 12.01)',\n",
              " 'upon sending written notice(score: 11.95)',\n",
              " 'authority granted hereunder shall(score: 11.93)',\n",
              " 'maintenance services performed prior(score: 11.9)',\n",
              " 'admit additional general partners(score: 11.75)',\n",
              " 'reynolds group holdings limited(score: 11.71)',\n",
              " 'dova hereunder whether accruing(score: 11.71)']"
            ]
          },
          "metadata": {},
          "execution_count": 386
        }
      ]
    },
    {
      "cell_type": "markdown",
      "source": [
        "**Show the result score of anti_assignment**"
      ],
      "metadata": {
        "id": "H-PNN5pPCm_s"
      }
    },
    {
      "cell_type": "code",
      "source": [
        "anti_assignment_method2_result.map(lambda x: (x[0] + \"(score: \" + str(round(x[1], 2)) + \")\")).take(20)"
      ],
      "metadata": {
        "colab": {
          "base_uri": "https://localhost:8080/"
        },
        "id": "UEEcTK7ULvQj",
        "outputId": "6704a160-a866-43b1-b74a-da169304a57d"
      },
      "execution_count": null,
      "outputs": [
        {
          "output_type": "execute_result",
          "data": {
            "text/plain": [
              "['transporter�s ferc gas tariff(score: 15.5)',\n",
              " 'minimum net worth equal(score: 14.5)',\n",
              " 'indirect loss thus caused(score: 14.44)',\n",
              " 'restrictions set forth herein(score: 13.9)',\n",
              " 'new start-up location franchisees(score: 13.55)',\n",
              " 'managing group may decide(score: 13.52)',\n",
              " 'event papa john�s wishes(score: 13.48)',\n",
              " 'express prior written authorization(score: 13.46)',\n",
              " 'taken together would constitute(score: 13.33)',\n",
              " 'current franchise application fee(score: 13.25)',\n",
              " 'el pollo loco�s sole(score: 12.99)',\n",
              " 'expressly set forth herein(score: 12.82)',\n",
              " 'nfla prior written consent(score: 12.67)',\n",
              " 'forty niners sc without(score: 12.63)',\n",
              " 'cause forty niners sc(score: 12.5)',\n",
              " 'reynolds group holdings limited(score: 12.45)',\n",
              " 'buyer�s current common parent(score: 12.38)',\n",
              " 'current initial franchise fee(score: 12.25)',\n",
              " 'proposed new owner�s directors(score: 12.24)',\n",
              " 'otherwise create derivative works(score: 12.24)']"
            ]
          },
          "metadata": {},
          "execution_count": 385
        }
      ]
    }
  ],
  "metadata": {
    "colab": {
      "collapsed_sections": [],
      "name": "08_RE_ldin7836_Lihao_Ding.ipynb",
      "provenance": []
    },
    "kernelspec": {
      "display_name": "Python 3",
      "language": "python",
      "name": "python3"
    }
  },
  "nbformat": 4,
  "nbformat_minor": 0
}